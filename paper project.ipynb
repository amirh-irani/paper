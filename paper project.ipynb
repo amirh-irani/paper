{
 "cells": [
  {
   "cell_type": "markdown",
   "metadata": {},
   "source": [
    "<h1>Start of PHASE 1 - Filling the missing values - No feature selection - No Smoothing </h1>"
   ]
  },
  {
   "cell_type": "code",
   "execution_count": 1,
   "metadata": {},
   "outputs": [],
   "source": [
    "import pandas as pd"
   ]
  },
  {
   "cell_type": "code",
   "execution_count": 2,
   "metadata": {},
   "outputs": [],
   "source": [
    "data = pd.read_excel('C:\\\\Users\\\\amir\\\\Desktop\\\\data.xlsx')"
   ]
  },
  {
   "cell_type": "code",
   "execution_count": 3,
   "metadata": {},
   "outputs": [],
   "source": [
    "droped_data = data.drop(['year of credit scoring', 'year of financial statistices', \n",
    "           'Legal office/tax declaration', 'Legal office/Accredited auditor',\n",
    "           'Legal office/corporate auidit', 'quantity score', 'qulity score', \n",
    "           'total score', 'credit rate', 'Lowe credit limit', 'middle credit limit', \n",
    "           'upper credit limit', 'export type', 'Audit report Reliability', \n",
    "           'credit expert 1 opinion', 'credit expert 2 opinion', 'risk expert 1 opinion', \n",
    "           'quality coins', 'Current period sales', 'Current period assets', \n",
    "           'Current period shareholder Equity'], axis=1)"
   ]
  },
  {
   "cell_type": "code",
   "execution_count": 4,
   "metadata": {},
   "outputs": [],
   "source": [
    "droped_data_copy = droped_data.copy()"
   ]
  },
  {
   "cell_type": "code",
   "execution_count": 5,
   "metadata": {},
   "outputs": [],
   "source": [
    "cols_with_missing = [col for col in droped_data.columns if droped_data[col].isnull().any()]"
   ]
  },
  {
   "cell_type": "code",
   "execution_count": 6,
   "metadata": {},
   "outputs": [],
   "source": [
    "for col in cols_with_missing[:-5]:\n",
    "    droped_data_copy = droped_data_copy[droped_data_copy[col].notnull()]"
   ]
  },
  {
   "cell_type": "code",
   "execution_count": 7,
   "metadata": {},
   "outputs": [],
   "source": [
    "droped_data_copy = droped_data_copy[droped_data_copy['Last three years average exports'].notnull()]"
   ]
  },
  {
   "cell_type": "code",
   "execution_count": 8,
   "metadata": {},
   "outputs": [],
   "source": [
    "X = droped_data_copy.drop(['Last three years average imports', 'Two-Prior period shareholder Equity'], axis=1)\n",
    "y1, y2 = droped_data_copy['Last three years average imports'], droped_data_copy['Two-Prior period shareholder Equity']"
   ]
  },
  {
   "cell_type": "code",
   "execution_count": 9,
   "metadata": {},
   "outputs": [],
   "source": [
    "X_train1 = X[y1.notnull()]\n",
    "X_test1  = X[y1.isnull()]\n",
    "y_train1 = y1[y1.notnull()]\n",
    "y_test1  = y1[y1.isnull()]"
   ]
  },
  {
   "cell_type": "code",
   "execution_count": 10,
   "metadata": {},
   "outputs": [],
   "source": [
    "from sklearn.ensemble import RandomForestRegressor\n",
    "model1 = RandomForestRegressor(n_estimators=100, random_state=0)\n",
    "model1.fit(X_train1, y_train1)\n",
    "y_test = model1.predict(X_test1)"
   ]
  },
  {
   "cell_type": "code",
   "execution_count": 11,
   "metadata": {},
   "outputs": [
    {
     "data": {
      "text/plain": [
       "array([4.14920841e+07, 1.36064057e+07, 2.04712000e+03, 3.13834000e+03,\n",
       "       2.13800000e+02, 3.52301000e+04, 3.19262800e+04, 8.08615500e+04,\n",
       "       1.31457030e+05, 4.35900000e+02, 7.43180000e+02, 1.26052000e+03,\n",
       "       4.99910100e+04, 1.37680000e+02, 9.10510000e+02, 4.27196000e+03,\n",
       "       1.45207160e+05, 2.82890680e+05, 4.25080000e+02, 3.15154700e+04,\n",
       "       7.49074500e+03, 2.87416000e+03, 5.37082400e+04, 1.18450730e+05,\n",
       "       1.14568250e+04, 3.85738500e+04, 4.98601000e+03, 1.70750000e+02,\n",
       "       5.49923000e+03, 2.80772100e+05, 1.76790000e+02, 9.61605950e+05,\n",
       "       5.05800000e+02, 5.37195000e+03, 4.92653800e+04, 2.61797000e+03,\n",
       "       1.16996000e+03, 2.17128640e+04, 1.65466800e+04, 1.43249700e+04,\n",
       "       1.02323580e+05, 5.09200600e+05, 8.74360300e+04, 8.11593320e+05,\n",
       "       1.42393871e+06, 3.22805400e+05, 3.37978920e+05, 3.36260000e+02,\n",
       "       3.37287700e+04, 2.92705000e+03, 3.24867700e+04, 2.13040000e+02])"
      ]
     },
     "execution_count": 11,
     "metadata": {},
     "output_type": "execute_result"
    }
   ],
   "source": [
    "y1 = y_test\n",
    "y1"
   ]
  },
  {
   "cell_type": "code",
   "execution_count": 12,
   "metadata": {},
   "outputs": [],
   "source": [
    "X_train2 = X[y2.notnull()]\n",
    "X_test2  = X[y2.isnull()]\n",
    "y_train2 = y2[y2.notnull()]\n",
    "y_test2  = y2[y2.isnull()]"
   ]
  },
  {
   "cell_type": "code",
   "execution_count": 13,
   "metadata": {},
   "outputs": [],
   "source": [
    "model2 = RandomForestRegressor(n_estimators=100, random_state=0)\n",
    "model2.fit(X_train2, y_train2)\n",
    "y_test2 = model2.predict(X_test2)"
   ]
  },
  {
   "cell_type": "code",
   "execution_count": 14,
   "metadata": {},
   "outputs": [],
   "source": [
    "droped_data_copy['Last three years average imports'][droped_data_copy['Last three years average imports'].isnull()] = y1"
   ]
  },
  {
   "cell_type": "code",
   "execution_count": 15,
   "metadata": {},
   "outputs": [
    {
     "data": {
      "text/plain": [
       "0"
      ]
     },
     "execution_count": 15,
     "metadata": {},
     "output_type": "execute_result"
    }
   ],
   "source": [
    "droped_data_copy['Last three years average imports'].isnull().sum()"
   ]
  },
  {
   "cell_type": "code",
   "execution_count": 16,
   "metadata": {},
   "outputs": [
    {
     "data": {
      "text/plain": [
       "array([0., 0., 0., 0., 0., 0.])"
      ]
     },
     "execution_count": 16,
     "metadata": {},
     "output_type": "execute_result"
    }
   ],
   "source": [
    "y2 = y_test2\n",
    "y2"
   ]
  },
  {
   "cell_type": "code",
   "execution_count": 17,
   "metadata": {},
   "outputs": [],
   "source": [
    "droped_data_copy['Two-Prior period shareholder Equity'][droped_data_copy['Two-Prior period shareholder Equity'].isnull()] = y2"
   ]
  },
  {
   "cell_type": "code",
   "execution_count": 18,
   "metadata": {},
   "outputs": [
    {
     "data": {
      "text/plain": [
       "0"
      ]
     },
     "execution_count": 18,
     "metadata": {},
     "output_type": "execute_result"
    }
   ],
   "source": [
    "droped_data_copy['Two-Prior period shareholder Equity'].isnull().sum()"
   ]
  },
  {
   "cell_type": "code",
   "execution_count": 19,
   "metadata": {},
   "outputs": [],
   "source": [
    "from sklearn.model_selection import train_test_split\n",
    "X = droped_data_copy.drop([' (worthy/nonworthy) y'], axis=1)\n",
    "y = droped_data_copy[' (worthy/nonworthy) y']\n",
    "\n",
    "X_train, X_test, y_train, y_test = train_test_split(X, y, random_state=0)"
   ]
  },
  {
   "cell_type": "code",
   "execution_count": 20,
   "metadata": {},
   "outputs": [],
   "source": [
    "from sklearn.ensemble import RandomForestClassifier\n",
    "model = RandomForestClassifier()\n",
    "model.fit(X_train, y_train)\n",
    "predict = model.predict(X_test)"
   ]
  },
  {
   "cell_type": "code",
   "execution_count": 21,
   "metadata": {},
   "outputs": [],
   "source": [
    "from sklearn.metrics import accuracy_score"
   ]
  },
  {
   "cell_type": "code",
   "execution_count": 22,
   "metadata": {},
   "outputs": [
    {
     "data": {
      "text/plain": [
       "0.8925619834710744"
      ]
     },
     "execution_count": 22,
     "metadata": {},
     "output_type": "execute_result"
    }
   ],
   "source": [
    "accuracy_score(y_test, predict)"
   ]
  },
  {
   "cell_type": "code",
   "execution_count": 23,
   "metadata": {},
   "outputs": [
    {
     "data": {
      "text/plain": [
       "0.8467122830440588"
      ]
     },
     "execution_count": 23,
     "metadata": {},
     "output_type": "execute_result"
    }
   ],
   "source": [
    "from sklearn.metrics import roc_auc_score\n",
    "pred = model.predict_proba(X_test)\n",
    "pred = [p[1] for p in pred]\n",
    "roc_auc_score(y_test, pred)"
   ]
  },
  {
   "cell_type": "markdown",
   "metadata": {},
   "source": [
    "<h3>End of PHASE 1 - Filling the missing values - No feature selection - No Smoothing </h3>"
   ]
  },
  {
   "cell_type": "markdown",
   "metadata": {},
   "source": [
    "<p>-------------------------------------------------------------------------------------------------------</p>"
   ]
  },
  {
   "cell_type": "markdown",
   "metadata": {},
   "source": [
    "<h1>Start of PHASE 2 - Handling the Imbalanced Data - <span style=color:red>No Spliting for now</span> </h1>"
   ]
  },
  {
   "cell_type": "code",
   "execution_count": 24,
   "metadata": {},
   "outputs": [],
   "source": [
    "data = droped_data_copy"
   ]
  },
  {
   "cell_type": "code",
   "execution_count": 37,
   "metadata": {},
   "outputs": [],
   "source": [
    "from imblearn.over_sampling import SVMSMOTE\n",
    "from collections import Counter"
   ]
  },
  {
   "cell_type": "code",
   "execution_count": 33,
   "metadata": {},
   "outputs": [],
   "source": [
    "X, y = data.drop([' (worthy/nonworthy) y'], axis=1), data[' (worthy/nonworthy) y']"
   ]
  },
  {
   "cell_type": "code",
   "execution_count": 34,
   "metadata": {},
   "outputs": [
    {
     "data": {
      "text/plain": [
       "Counter({1: 838, 0: 127})"
      ]
     },
     "execution_count": 34,
     "metadata": {},
     "output_type": "execute_result"
    }
   ],
   "source": [
    "counter = Counter(y)\n",
    "counter"
   ]
  },
  {
   "cell_type": "code",
   "execution_count": 35,
   "metadata": {},
   "outputs": [
    {
     "data": {
      "text/plain": [
       "Counter({1: 838, 0: 838})"
      ]
     },
     "execution_count": 35,
     "metadata": {},
     "output_type": "execute_result"
    }
   ],
   "source": [
    "oversample = SVMSMOTE()\n",
    "X, y = oversample.fit_resample(X, y)\n",
    "counter = Counter(y)\n",
    "counter"
   ]
  },
  {
   "cell_type": "code",
   "execution_count": 43,
   "metadata": {},
   "outputs": [],
   "source": [
    "data = pd.concat([X, y], axis=1)"
   ]
  },
  {
   "cell_type": "code",
   "execution_count": 50,
   "metadata": {},
   "outputs": [
    {
     "name": "stdout",
     "output_type": "stream",
     "text": [
      "0.9260143198090692\n",
      "0.9806092600210248\n"
     ]
    }
   ],
   "source": [
    "X_train, X_test, y_train, y_test = train_test_split(X, y, random_state=0)\n",
    "model = RandomForestClassifier()\n",
    "model.fit(X_train, y_train)\n",
    "predict = model.predict(X_test)\n",
    "print(accuracy_score(y_test, predict))\n",
    "pred = model.predict_proba(X_test)\n",
    "pred = [p[1] for p in pred]\n",
    "print(roc_auc_score(y_test, pred))"
   ]
  },
  {
   "cell_type": "markdown",
   "metadata": {},
   "source": [
    "<h1>Start of PHASE 3 - Feature Selection - <span style=color:red>No Smoothing</span> </h1>"
   ]
  },
  {
   "cell_type": "code",
   "execution_count": null,
   "metadata": {},
   "outputs": [],
   "source": []
  }
 ],
 "metadata": {
  "kernelspec": {
   "display_name": "Python 3",
   "language": "python",
   "name": "python3"
  },
  "language_info": {
   "codemirror_mode": {
    "name": "ipython",
    "version": 3
   },
   "file_extension": ".py",
   "mimetype": "text/x-python",
   "name": "python",
   "nbconvert_exporter": "python",
   "pygments_lexer": "ipython3",
   "version": "3.8.3"
  }
 },
 "nbformat": 4,
 "nbformat_minor": 4
}
